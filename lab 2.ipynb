{
 "cells": [
  {
   "cell_type": "code",
   "execution_count": 1,
   "metadata": {},
   "outputs": [
    {
     "name": "stdout",
     "output_type": "stream",
     "text": [
      "[1, 2, 3, 4, 5]\n",
      "{1, 2, 3, 4}\n",
      "Константа нуля: 0\n",
      "Константа значення True: True\n",
      "5\n",
      "2.19\n",
      "1\n",
      "2\n",
      "3\n",
      "4\n",
      "apple\n",
      "banana\n",
      "cherry\n",
      "Число є від'ємним\n",
      "True\n",
      "Помилка: Ділення на нуль!\n",
      "Кінець програми\n",
      "25\n"
     ]
    }
   ],
   "source": [
    "#i. \n",
    "my_list = [1, 2, 3, 4, 5]\n",
    "print (my_list)\n",
    "\n",
    "my_set = {1, 2, 3}\n",
    "my_set.add(4)\n",
    "print(my_set) # виведе {1, 2, 3, 4}\n",
    "\n",
    "#ii. \n",
    "print(\"Константа нуля:\", 0)\n",
    "print(\"Константа значення True:\", True)\n",
    "#iii.\n",
    "lst = [1, 2, 3, 4, 5]\n",
    "print(len(lst))\n",
    "print(round(2.1941, 2))\n",
    "#iv.\n",
    "for i in range(1, 5):\n",
    "    print(i)\n",
    "\n",
    "fruits = [\"apple\", \"banana\", \"cherry\"]\n",
    "for fruit in fruits:\n",
    "    print(fruit)\n",
    "#v.\n",
    "num = -10\n",
    "if num > 0:\n",
    "    print(\"Число є додатнім\")\n",
    "elif num == 0:\n",
    "    print(\"Число дорівнює нулю\")\n",
    "else:\n",
    "    print(\"Число є від'ємним\")\n",
    "\n",
    "x = 5\n",
    "y = 10\n",
    "result = x < y\n",
    "print(result)\n",
    "#vi.\n",
    "a = 10\n",
    "b = 0\n",
    "try:\n",
    "    c = a / b\n",
    "    print(c)\n",
    "except:\n",
    "    print(\"Помилка: Ділення на нуль!\")\n",
    "finally:\n",
    "    print(\"Кінець програми\")\n",
    "#vii.\n",
    "with open(\"file.txt\", \"w\") as f:\n",
    "    f.write(\"Hello, World!\")\n",
    "#viii.\n",
    "square = lambda x: x**2\n",
    "print(square(5))\n",
    "\n",
    "\n"
   ]
  }
 ],
 "metadata": {
  "kernelspec": {
   "display_name": "Python 3",
   "language": "python",
   "name": "python3"
  },
  "language_info": {
   "codemirror_mode": {
    "name": "ipython",
    "version": 3
   },
   "file_extension": ".py",
   "mimetype": "text/x-python",
   "name": "python",
   "nbconvert_exporter": "python",
   "pygments_lexer": "ipython3",
   "version": "3.10.4"
  },
  "orig_nbformat": 4,
  "vscode": {
   "interpreter": {
    "hash": "acc0dcb458adea865fa90ce4f43fb3956ae49c60606d0d549bfdeff9ec2bcd00"
   }
  }
 },
 "nbformat": 4,
 "nbformat_minor": 2
}
